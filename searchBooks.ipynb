{
 "cells": [
  {
   "cell_type": "code",
   "execution_count": 1,
   "id": "initial_id",
   "metadata": {
    "collapsed": true,
    "ExecuteTime": {
     "end_time": "2024-02-02T06:09:45.229412900Z",
     "start_time": "2024-02-02T06:09:25.483598Z"
    }
   },
   "outputs": [
    {
     "ename": "IndexError",
     "evalue": "list index out of range",
     "output_type": "error",
     "traceback": [
      "\u001B[1;31m---------------------------------------------------------------------------\u001B[0m",
      "\u001B[1;31mIndexError\u001B[0m                                Traceback (most recent call last)",
      "Cell \u001B[1;32mIn[1], line 19\u001B[0m\n\u001B[0;32m     17\u001B[0m \u001B[38;5;28;01mfor\u001B[39;00m matchIndex, start, end \u001B[38;5;129;01min\u001B[39;00m characterMatches:\n\u001B[0;32m     18\u001B[0m     match \u001B[38;5;241m=\u001B[39m docTosearch[start:end]\n\u001B[1;32m---> 19\u001B[0m     \u001B[38;5;28mprint\u001B[39m(match, \u001B[38;5;124m'\u001B[39m\u001B[38;5;130;01m\\t\u001B[39;00m\u001B[38;5;124m|\u001B[39m\u001B[38;5;130;01m\\t\u001B[39;00m\u001B[38;5;124m'\u001B[39m, \u001B[43mmatch\u001B[49m\u001B[38;5;241;43m.\u001B[39;49m\u001B[43ments\u001B[49m\u001B[43m[\u001B[49m\u001B[38;5;241;43m0\u001B[39;49m\u001B[43m]\u001B[49m\u001B[38;5;241m.\u001B[39mlabel_, \u001B[38;5;124m'\u001B[39m\u001B[38;5;130;01m\\t\u001B[39;00m\u001B[38;5;124m|\u001B[39m\u001B[38;5;130;01m\\t\u001B[39;00m\u001B[38;5;124m'\u001B[39m, match\u001B[38;5;241m.\u001B[39msent, \u001B[38;5;124m'\u001B[39m\u001B[38;5;130;01m\\t\u001B[39;00m\u001B[38;5;124m|\u001B[39m\u001B[38;5;130;01m\\t\u001B[39;00m\u001B[38;5;124m'\u001B[39m, start, end)\n",
      "\u001B[1;31mIndexError\u001B[0m: list index out of range"
     ]
    }
   ],
   "source": [
    "import spacy\n",
    "nlp = spacy.load('en_core_web_lg')\n",
    "from spacy.matcher import PhraseMatcher\n",
    "\n",
    "textTosearch = open(\"masterpiecesOfTheMastersOfFiction.txt\", \"r\", encoding=\"utf8\").read()\n",
    "docTosearch = nlp(textTosearch)\n",
    "matcher = PhraseMatcher(nlp.vocab, attr=\"LOWER\")\n",
    "\n",
    "searches = input(\"Enter search phrases: \").strip()\n",
    "\n",
    "searchPatterns = [nlp.make_doc(text) for text in searches]\n",
    "\n",
    "matcher.add('phrase-matching', None, *searchPatterns)\n",
    "\n",
    "characterMatches = matcher(docTosearch)\n",
    "\n",
    "for matchIndex, start, end in characterMatches:\n",
    "    match = docTosearch[start:end]\n",
    "    print(match, '\\t|\\t', match.ents[0].label_, '\\t|\\t', match.sent, '\\t|\\t', start, end)"
   ]
  },
  {
   "cell_type": "code",
   "outputs": [],
   "source": [],
   "metadata": {
    "collapsed": false
   },
   "id": "c46e930895c3328d"
  }
 ],
 "metadata": {
  "kernelspec": {
   "display_name": "Python 3",
   "language": "python",
   "name": "python3"
  },
  "language_info": {
   "codemirror_mode": {
    "name": "ipython",
    "version": 2
   },
   "file_extension": ".py",
   "mimetype": "text/x-python",
   "name": "python",
   "nbconvert_exporter": "python",
   "pygments_lexer": "ipython2",
   "version": "2.7.6"
  }
 },
 "nbformat": 4,
 "nbformat_minor": 5
}
